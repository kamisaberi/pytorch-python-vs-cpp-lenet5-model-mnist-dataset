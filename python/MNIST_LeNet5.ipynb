{
 "cells": [
  {
   "metadata": {},
   "cell_type": "markdown",
   "source": "## Imports"
  },
  {
   "metadata": {
    "ExecuteTime": {
     "end_time": "2025-01-10T22:02:54.724240Z",
     "start_time": "2025-01-10T22:02:54.706310Z"
    }
   },
   "cell_type": "code",
   "source": [
    "# Load in relevant libraries, and alias where appropriate\n",
    "import torch\n",
    "import torch.nn as nn\n",
    "import torchvision\n",
    "import torchvision.transforms as transforms"
   ],
   "outputs": [],
   "execution_count": 9
  },
  {
   "metadata": {},
   "cell_type": "markdown",
   "source": "## Global Variables"
  },
  {
   "metadata": {
    "ExecuteTime": {
     "end_time": "2025-01-10T22:02:55.802964Z",
     "start_time": "2025-01-10T22:02:55.799488Z"
    }
   },
   "cell_type": "code",
   "source": [
    "batch_size = 64\n",
    "num_classes = 10\n",
    "learning_rate = 0.001\n",
    "num_epochs = 10\n",
    "device = torch.device('cuda' if torch.cuda.is_available() else 'cpu')"
   ],
   "outputs": [],
   "execution_count": 10
  },
  {
   "metadata": {},
   "cell_type": "markdown",
   "source": "## Dataloader"
  },
  {
   "metadata": {
    "ExecuteTime": {
     "end_time": "2025-01-10T22:02:56.868538Z",
     "start_time": "2025-01-10T22:02:56.825932Z"
    }
   },
   "cell_type": "code",
   "source": [
    "train_dataset = torchvision.datasets.MNIST(root = 'E:/DATASETS/',\n",
    "                                           train = True,\n",
    "                                           transform = transforms.Compose([\n",
    "                                               transforms.Resize((32,32)),\n",
    "                                               transforms.ToTensor(),\n",
    "                                               transforms.Normalize(mean = (0.1307,), std = (0.3081,))]),\n",
    "                                           download = True)\n",
    "train_loader = torch.utils.data.DataLoader(dataset = train_dataset,\n",
    "                                           batch_size = batch_size,\n",
    "                                           shuffle = True)\n"
   ],
   "outputs": [],
   "execution_count": 11
  },
  {
   "metadata": {},
   "cell_type": "markdown",
   "source": "## Model"
  },
  {
   "metadata": {
    "ExecuteTime": {
     "end_time": "2025-01-10T22:03:02.441132Z",
     "start_time": "2025-01-10T22:03:02.433890Z"
    }
   },
   "cell_type": "code",
   "source": [
    "#Defining the convolutional neural network\n",
    "class LeNet5(nn.Module):\n",
    "    def __init__(self, num_classes):\n",
    "        super(LeNet5, self).__init__()\n",
    "        self.layer1 = nn.Sequential(\n",
    "            nn.Conv2d(1, 6, kernel_size=5, stride=1, padding=0),\n",
    "            nn.BatchNorm2d(6),\n",
    "            nn.ReLU(),\n",
    "            nn.MaxPool2d(kernel_size = 2, stride = 2))\n",
    "        self.layer2 = nn.Sequential(\n",
    "            nn.Conv2d(6, 16, kernel_size=5, stride=1, padding=0),\n",
    "            nn.BatchNorm2d(16),\n",
    "            nn.ReLU(),\n",
    "            nn.MaxPool2d(kernel_size = 2, stride = 2))\n",
    "        self.fc = nn.Linear(400, 120)\n",
    "        self.relu = nn.ReLU()\n",
    "        self.fc1 = nn.Linear(120, 84)\n",
    "        self.relu1 = nn.ReLU()\n",
    "        self.fc2 = nn.Linear(84, num_classes)\n",
    "\n",
    "    def forward(self, x):\n",
    "        out = self.layer1(x)\n",
    "        out = self.layer2(out)\n",
    "        out = out.reshape(out.size(0), -1)\n",
    "        out = self.fc(out)\n",
    "        out = self.relu(out)\n",
    "        out = self.fc1(out)\n",
    "        out = self.relu1(out)\n",
    "        out = self.fc2(out)\n",
    "        return out"
   ],
   "outputs": [],
   "execution_count": 12
  },
  {
   "metadata": {},
   "cell_type": "markdown",
   "source": "## Definitions"
  },
  {
   "metadata": {
    "ExecuteTime": {
     "end_time": "2025-01-10T22:03:04.180210Z",
     "start_time": "2025-01-10T22:03:04.171680Z"
    }
   },
   "cell_type": "code",
   "source": [
    "model = LeNet5(num_classes).to(device)\n",
    "\n",
    "#Setting the loss function\n",
    "cost = nn.CrossEntropyLoss()\n",
    "\n",
    "#Setting the optimizer with the model parameters and learning rate\n",
    "optimizer = torch.optim.Adam(model.parameters(), lr=learning_rate)\n",
    "\n",
    "#this is defined to print how many steps are remaining when training\n",
    "total_step = len(train_loader)"
   ],
   "outputs": [],
   "execution_count": 13
  },
  {
   "metadata": {},
   "cell_type": "markdown",
   "source": "## Train"
  },
  {
   "metadata": {
    "ExecuteTime": {
     "end_time": "2025-01-10T22:04:21.879577Z",
     "start_time": "2025-01-10T22:03:05.044694Z"
    }
   },
   "cell_type": "code",
   "source": [
    "total_step = len(train_loader)\n",
    "for epoch in range(num_epochs):\n",
    "    for i, (images, labels) in enumerate(train_loader):\n",
    "        images = images.to(device)\n",
    "        labels = labels.to(device)\n",
    "\n",
    "        #Forward pass\n",
    "        outputs = model(images)\n",
    "        loss = cost(outputs, labels)\n",
    "        #Backward and optimize\n",
    "        optimizer.zero_grad()\n",
    "        loss.backward()\n",
    "        optimizer.step()\n",
    "        if (i+1) % 400 == 0:\n",
    "            print ('Epoch [{}/{}], Step [{}/{}], Loss: {:.4f}'\n",
    "                   .format(epoch+1, num_epochs, i+1, total_step, loss.item()))"
   ],
   "outputs": [
    {
     "name": "stdout",
     "output_type": "stream",
     "text": [
      "Epoch [1/10], Step [400/938], Loss: 0.1547\n",
      "Epoch [1/10], Step [800/938], Loss: 0.1189\n",
      "Epoch [2/10], Step [400/938], Loss: 0.0468\n",
      "Epoch [2/10], Step [800/938], Loss: 0.0062\n",
      "Epoch [3/10], Step [400/938], Loss: 0.0180\n",
      "Epoch [3/10], Step [800/938], Loss: 0.0014\n",
      "Epoch [4/10], Step [400/938], Loss: 0.0429\n",
      "Epoch [4/10], Step [800/938], Loss: 0.0163\n",
      "Epoch [5/10], Step [400/938], Loss: 0.0100\n",
      "Epoch [5/10], Step [800/938], Loss: 0.0158\n",
      "Epoch [6/10], Step [400/938], Loss: 0.0005\n",
      "Epoch [6/10], Step [800/938], Loss: 0.0074\n",
      "Epoch [7/10], Step [400/938], Loss: 0.0007\n",
      "Epoch [7/10], Step [800/938], Loss: 0.0034\n",
      "Epoch [8/10], Step [400/938], Loss: 0.0053\n",
      "Epoch [8/10], Step [800/938], Loss: 0.0145\n",
      "Epoch [9/10], Step [400/938], Loss: 0.0023\n",
      "Epoch [9/10], Step [800/938], Loss: 0.0033\n",
      "Epoch [10/10], Step [400/938], Loss: 0.0092\n",
      "Epoch [10/10], Step [800/938], Loss: 0.0154\n"
     ]
    }
   ],
   "execution_count": 14
  },
  {
   "metadata": {},
   "cell_type": "code",
   "outputs": [],
   "execution_count": null,
   "source": ""
  }
 ],
 "metadata": {
  "accelerator": "GPU",
  "colab": {
   "gpuType": "T4",
   "provenance": []
  },
  "kernelspec": {
   "display_name": "Python 3 (ipykernel)",
   "name": "python3",
   "language": "python"
  },
  "language_info": {
   "name": "python"
  }
 },
 "nbformat": 4,
 "nbformat_minor": 0
}
